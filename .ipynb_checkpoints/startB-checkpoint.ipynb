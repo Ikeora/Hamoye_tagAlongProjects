{
 "cells": [
  {
   "cell_type": "code",
   "execution_count": 2,
   "id": "a9521486-8ec9-4bf5-b258-29d19cad1876",
   "metadata": {},
   "outputs": [],
   "source": [
    "import pandas as pd\n",
    "import numpy as np\n",
    "import seaborn as sns\n",
    "import matplotlib.pyplot as plt\n"
   ]
  },
  {
   "cell_type": "code",
   "execution_count": 3,
   "id": "f2ec6cbb-dc5b-4972-aea6-50b29861a33f",
   "metadata": {},
   "outputs": [],
   "source": [
    "energy_data=pd.read_csv('energydata_complete.csv')"
   ]
  },
  {
   "cell_type": "code",
   "execution_count": 43,
   "id": "e77a1cc4-03c1-461d-a40c-f04c578b1164",
   "metadata": {},
   "outputs": [],
   "source": [
    "from sklearn.linear_model import LinearRegression\n",
    "from sklearn.preprocessing import MinMaxScaler\n",
    "from sklearn.model_selection import train_test_split\n",
    "from sklearn.metrics import mean_absolute_error\n",
    "\n"
   ]
  },
  {
   "cell_type": "markdown",
   "id": "eb1d0200-0173-4d68-b5de-0399842fbaf8",
   "metadata": {},
   "source": [
    "## Question 12"
   ]
  },
  {
   "cell_type": "code",
   "execution_count": 66,
   "id": "e90a561a-46ca-4c79-920f-209f7f5b5871",
   "metadata": {},
   "outputs": [
    {
     "data": {
      "text/plain": [
       "0.64"
      ]
     },
     "execution_count": 66,
     "metadata": {},
     "output_type": "execute_result"
    }
   ],
   "source": [
    "l_model=LinearRegression()\n",
    "l_model.fit(energy_data[['T2']],energy_data[['T6']])\n",
    "r2_score=l_model.score(energy_data[['T2']],energy_data[['T6']])\n",
    "round(r2_score,2)"
   ]
  },
  {
   "cell_type": "markdown",
   "id": "3d602d3d-06a5-44d4-b307-7b7a4a0eb90c",
   "metadata": {},
   "source": [
    "## Question 13"
   ]
  },
  {
   "cell_type": "code",
   "execution_count": 67,
   "id": "09f20be1-8a18-457b-8cae-5a456cd406f3",
   "metadata": {},
   "outputs": [
    {
     "data": {
      "text/plain": [
       "0.05"
      ]
     },
     "execution_count": 67,
     "metadata": {},
     "output_type": "execute_result"
    }
   ],
   "source": [
    "energy=energy_data.drop(columns=['date','lights'])\n",
    "scaler=MinMaxScaler()\n",
    "normalized_data=pd.DataFrame(scaler.fit_transform(energy),columns=energy.columns)\n",
    "X=normalized_data.drop(columns=['Appliances'])\n",
    "Y=normalized_data['Appliances']\n",
    "# splitting data\n",
    "x_train, x_test, y_train, y_test = train_test_split(X, Y,test_size=0.3, random_state=42)\n",
    "#building model\n",
    "multiLinear_model=LinearRegression()\n",
    "multiLinear_model.fit(x_train,y_train)\n",
    "\n",
    "#evaluation\n",
    "predicted_values=multiLinear_model.predict(x_test)\n",
    "error=mean_absolute_error(y_test,predicted_values)\n",
    "round(error,2)"
   ]
  },
  {
   "cell_type": "markdown",
   "id": "0437b118-1936-41d1-8292-013ebbd4e6b3",
   "metadata": {},
   "source": [
    "## Question 14"
   ]
  },
  {
   "cell_type": "code",
   "execution_count": 70,
   "id": "6810d57c-57c3-4a9c-b73d-f6a7f9238b93",
   "metadata": {},
   "outputs": [
    {
     "data": {
      "text/plain": [
       "45.35"
      ]
     },
     "execution_count": 70,
     "metadata": {},
     "output_type": "execute_result"
    }
   ],
   "source": [
    "def RSS(actual_values, Predicted_values):\n",
    "    return np.sum(np.square(predicted_values - actual_values))\n",
    "rss=RSS(y_test,predicted_values)\n",
    "round(rss,2)"
   ]
  },
  {
   "cell_type": "markdown",
   "id": "a007483c-c5c0-4ef3-bc6d-aa68eb96b9bf",
   "metadata": {},
   "source": [
    "## Question 15"
   ]
  },
  {
   "cell_type": "code",
   "execution_count": 71,
   "id": "d7189842-1ba4-4ab5-bc4d-07297193634f",
   "metadata": {},
   "outputs": [
    {
     "data": {
      "text/plain": [
       "0.088"
      ]
     },
     "execution_count": 71,
     "metadata": {},
     "output_type": "execute_result"
    }
   ],
   "source": [
    "from sklearn.metrics import mean_squared_error\n",
    "rmse=np.sqrt(mean_squared_error(y_test,predicted_values))\n",
    "round(rmse,3)"
   ]
  },
  {
   "cell_type": "markdown",
   "id": "6ea51325-c57e-4745-b35e-e6a09baf8dcc",
   "metadata": {},
   "source": [
    "## Question 16"
   ]
  },
  {
   "cell_type": "code",
   "execution_count": 72,
   "id": "ad06ced8-4e88-4ee7-b25a-0238508bc9c9",
   "metadata": {},
   "outputs": [
    {
     "data": {
      "text/plain": [
       "0.15"
      ]
     },
     "execution_count": 72,
     "metadata": {},
     "output_type": "execute_result"
    }
   ],
   "source": [
    "from sklearn.metrics import r2_score\n",
    "r2=r2_score(y_test,predicted_values)\n",
    "round(r2,2)"
   ]
  },
  {
   "cell_type": "markdown",
   "id": "6b699860-c40b-4a28-9f1b-6ae45f2995df",
   "metadata": {},
   "source": [
    "## Question 17"
   ]
  },
  {
   "cell_type": "code",
   "execution_count": 82,
   "id": "ae2e0cd0-a548-49e7-bc32-1c25b92fa140",
   "metadata": {},
   "outputs": [
    {
     "data": {
      "text/plain": [
       "['RH_2', 'RH_1']"
      ]
     },
     "execution_count": 82,
     "metadata": {},
     "output_type": "execute_result"
    }
   ],
   "source": [
    "weights=pd.Series(multiLinear_model.coef_,multiLinear_model.feature_names_in_).sort_values()[[0,-1]]\n",
    "list(weights.index)"
   ]
  },
  {
   "cell_type": "markdown",
   "id": "1f2cc079-0263-40b9-848d-9a2c202f4778",
   "metadata": {},
   "source": [
    "## Question 18"
   ]
  },
  {
   "cell_type": "code",
   "execution_count": 92,
   "id": "2c5bd274-7d88-440a-8545-02455d92eca7",
   "metadata": {},
   "outputs": [
    {
     "name": "stdout",
     "output_type": "stream",
     "text": [
      "No there is no change in rmse. Ridge error is also 0.088 \n"
     ]
    }
   ],
   "source": [
    "from sklearn.linear_model import Ridge\n",
    "ridge_model=Ridge(alpha=0.4)\n",
    "ridge_model.fit(x_train, y_train)\n",
    "ridge_error=np.sqrt(mean_squared_error(y_test,ridge_model.predict(x_test)))\n",
    "\n",
    "if round(ridge_error,3)==round(rmse,3):\n",
    "    print('No there is no change in rmse. Ridge error is also {:.3f} '.format(ridge_error))\n",
    "else:\n",
    "    print('Yes')\n"
   ]
  },
  {
   "cell_type": "markdown",
   "id": "dd7d0f6a-1054-4f98-a4de-6e8adfb7b26f",
   "metadata": {},
   "source": [
    "## Question 19"
   ]
  },
  {
   "cell_type": "code",
   "execution_count": 100,
   "id": "f73de2dd-4556-4c2d-885a-8be454cd2ef3",
   "metadata": {},
   "outputs": [
    {
     "name": "stdout",
     "output_type": "stream",
     "text": [
      "number of features with non-zero weights are 4\n"
     ]
    }
   ],
   "source": [
    "from sklearn.linear_model import Lasso\n",
    "lasso_model=Lasso(alpha=0.001)\n",
    "lasso_model.fit(x_train, y_train)\n",
    "num=len(lasso_model.coef_.nonzero()[0])\n",
    "print('number of features with non-zero weights are '+ str(num))"
   ]
  },
  {
   "cell_type": "markdown",
   "id": "4ccf8b2c-ba64-465a-a458-bdb6482c575e",
   "metadata": {},
   "source": [
    "## Question 20"
   ]
  },
  {
   "cell_type": "code",
   "execution_count": 101,
   "id": "68673d70-8e9f-4c65-bb94-d0d47bbbdf2a",
   "metadata": {},
   "outputs": [
    {
     "data": {
      "text/plain": [
       "0.094"
      ]
     },
     "execution_count": 101,
     "metadata": {},
     "output_type": "execute_result"
    }
   ],
   "source": [
    "lasso_rmse=np.sqrt(mean_squared_error(y_test,lasso_model.predict(x_test)))\n",
    "round(lasso_rmse,3)"
   ]
  },
  {
   "cell_type": "code",
   "execution_count": null,
   "id": "9d6e800f-6131-4ab1-9d11-d70d9bbd4682",
   "metadata": {},
   "outputs": [],
   "source": []
  }
 ],
 "metadata": {
  "kernelspec": {
   "display_name": "Python 3 (ipykernel)",
   "language": "python",
   "name": "python3"
  },
  "language_info": {
   "codemirror_mode": {
    "name": "ipython",
    "version": 3
   },
   "file_extension": ".py",
   "mimetype": "text/x-python",
   "name": "python",
   "nbconvert_exporter": "python",
   "pygments_lexer": "ipython3",
   "version": "3.7.13"
  }
 },
 "nbformat": 4,
 "nbformat_minor": 5
}
