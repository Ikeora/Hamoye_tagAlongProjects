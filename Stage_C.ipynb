{
 "cells": [
  {
   "cell_type": "code",
   "execution_count": 14,
   "id": "bcc671a7-bc94-40f6-bd0d-0010257cae3f",
   "metadata": {},
   "outputs": [],
   "source": [
    "import numpy as np\n",
    "import pandas as pd\n",
    "from sklearn.model_selection import train_test_split\n",
    "from sklearn.ensemble import ExtraTreesClassifier, RandomForestClassifier\n",
    "from xgboost import XGBClassifier\n",
    "from lightgbm import LGBMClassifier\n",
    "from sklearn.utils import shuffle\n",
    "import sklearn\n",
    "from sklearn.metrics import accuracy_score,recall_score, precision_score, f1_score, confusion_matrix, classification_report\n",
    "#from sklearn.preprocessing import LabelEncoder"
   ]
  },
  {
   "cell_type": "code",
   "execution_count": 2,
   "id": "3257ee81-b6be-420c-bd84-4fba1bacf958",
   "metadata": {},
   "outputs": [],
   "source": [
    "df=pd.read_csv('https://archive.ics.uci.edu/ml/machine-learning-databases/00471/Data_for_UCI_named.csv')"
   ]
  },
  {
   "cell_type": "code",
   "execution_count": 3,
   "id": "eaba11d3-39c7-4737-bd82-432013d1bfa6",
   "metadata": {},
   "outputs": [],
   "source": [
    "df.drop(columns=['stab'],inplace=True)"
   ]
  },
  {
   "cell_type": "code",
   "execution_count": 4,
   "id": "287e5e6f-186c-47b8-aecb-e9d47503a2f6",
   "metadata": {},
   "outputs": [
    {
     "data": {
      "text/html": [
       "<div>\n",
       "<style scoped>\n",
       "    .dataframe tbody tr th:only-of-type {\n",
       "        vertical-align: middle;\n",
       "    }\n",
       "\n",
       "    .dataframe tbody tr th {\n",
       "        vertical-align: top;\n",
       "    }\n",
       "\n",
       "    .dataframe thead th {\n",
       "        text-align: right;\n",
       "    }\n",
       "</style>\n",
       "<table border=\"1\" class=\"dataframe\">\n",
       "  <thead>\n",
       "    <tr style=\"text-align: right;\">\n",
       "      <th></th>\n",
       "      <th>tau1</th>\n",
       "      <th>tau2</th>\n",
       "      <th>tau3</th>\n",
       "      <th>tau4</th>\n",
       "      <th>p1</th>\n",
       "      <th>p2</th>\n",
       "      <th>p3</th>\n",
       "      <th>p4</th>\n",
       "      <th>g1</th>\n",
       "      <th>g2</th>\n",
       "      <th>g3</th>\n",
       "      <th>g4</th>\n",
       "      <th>stabf</th>\n",
       "    </tr>\n",
       "  </thead>\n",
       "  <tbody>\n",
       "    <tr>\n",
       "      <th>0</th>\n",
       "      <td>2.959060</td>\n",
       "      <td>3.079885</td>\n",
       "      <td>8.381025</td>\n",
       "      <td>9.780754</td>\n",
       "      <td>3.763085</td>\n",
       "      <td>-0.782604</td>\n",
       "      <td>-1.257395</td>\n",
       "      <td>-1.723086</td>\n",
       "      <td>0.650456</td>\n",
       "      <td>0.859578</td>\n",
       "      <td>0.887445</td>\n",
       "      <td>0.958034</td>\n",
       "      <td>unstable</td>\n",
       "    </tr>\n",
       "    <tr>\n",
       "      <th>1</th>\n",
       "      <td>9.304097</td>\n",
       "      <td>4.902524</td>\n",
       "      <td>3.047541</td>\n",
       "      <td>1.369357</td>\n",
       "      <td>5.067812</td>\n",
       "      <td>-1.940058</td>\n",
       "      <td>-1.872742</td>\n",
       "      <td>-1.255012</td>\n",
       "      <td>0.413441</td>\n",
       "      <td>0.862414</td>\n",
       "      <td>0.562139</td>\n",
       "      <td>0.781760</td>\n",
       "      <td>stable</td>\n",
       "    </tr>\n",
       "  </tbody>\n",
       "</table>\n",
       "</div>"
      ],
      "text/plain": [
       "       tau1      tau2      tau3      tau4        p1        p2        p3  \\\n",
       "0  2.959060  3.079885  8.381025  9.780754  3.763085 -0.782604 -1.257395   \n",
       "1  9.304097  4.902524  3.047541  1.369357  5.067812 -1.940058 -1.872742   \n",
       "\n",
       "         p4        g1        g2        g3        g4     stabf  \n",
       "0 -1.723086  0.650456  0.859578  0.887445  0.958034  unstable  \n",
       "1 -1.255012  0.413441  0.862414  0.562139  0.781760    stable  "
      ]
     },
     "execution_count": 4,
     "metadata": {},
     "output_type": "execute_result"
    }
   ],
   "source": [
    "df.head(2)"
   ]
  },
  {
   "cell_type": "code",
   "execution_count": 24,
   "id": "199e6748-5682-41b5-89a5-274dba8fec66",
   "metadata": {},
   "outputs": [],
   "source": [
    "## Splitting the data\n",
    "X=df.drop(columns=['stabf'])\n",
    "y=df.stabf\n",
    "x_train, x_test, y_train, y_test = train_test_split(X,y,test_size=0.2, random_state=1)        "
   ]
  },
  {
   "cell_type": "code",
   "execution_count": 25,
   "id": "06b9ed53-005c-4851-b69c-8da4bddaffdb",
   "metadata": {},
   "outputs": [],
   "source": [
    "#scale the data\n",
    "from sklearn.preprocessing import StandardScaler\n",
    "scaler=StandardScaler()\n",
    "x_train_scaled=scaler.fit_transform(x_train)\n",
    "x_train_scaled=pd.DataFrame(x_train_scaled,columns=X.columns)\n",
    "\n",
    "x_test_scaled=scaler.transform(x_test)\n",
    "x_test_scaled=pd.DataFrame(x_test_scaled,columns=X.columns)"
   ]
  },
  {
   "cell_type": "code",
   "execution_count": 51,
   "id": "4917ef88-7d77-4060-b303-1122c4f283fd",
   "metadata": {},
   "outputs": [
    {
     "name": "stdout",
     "output_type": "stream",
     "text": [
      "Accuracy: 93\n",
      "Training set score: 1.0000\n",
      "Test set score: 0.9290\n"
     ]
    }
   ],
   "source": [
    "## RANDOM FOREST\n",
    "\n",
    "rfc = RandomForestClassifier(random_state = 1)\n",
    "#fit on train set\n",
    "rfc.fit(x_train_scaled, y_train)\n",
    "rf_pred = rfc.predict(x_test_scaled)\n",
    "accuracy = accuracy_score(y_test, rf_pred)\n",
    "print('Accuracy: {}'.format(round(accuracy*100), 4))\n",
    "\n",
    "\n",
    "\n",
    "print(\"Training set score: {:.4f}\".format(rfc.score(x_train_scaled, y_train)))\n",
    "print(\"Test set score: {:.4f}\".format(rfc.score(x_test_scaled, y_test)))"
   ]
  },
  {
   "cell_type": "code",
   "execution_count": 50,
   "id": "39d15934-7547-4628-baee-dfe2be801209",
   "metadata": {},
   "outputs": [
    {
     "name": "stdout",
     "output_type": "stream",
     "text": [
      "Accuracy: 93%\n",
      "Training set score: 1.000\n",
      "Test set score: 0.928\n"
     ]
    }
   ],
   "source": [
    "## EXTRA TREES\n",
    "ETC = ExtraTreesClassifier(random_state = 1)\n",
    "#fit on train set\n",
    "ETC.fit(x_train_scaled, y_train)\n",
    "etc_pred = ETC.predict(x_test_scaled)\n",
    "accuracy = accuracy_score(y_test, etc_pred)\n",
    "print('Accuracy: {}%'.format(round(accuracy*100), 2))\n",
    "\n",
    "print(\"Training set score: {:.3f}\".format(ETC.score(x_train_scaled, y_train)))\n",
    "print(\"Test set score: {:.3f}\".format(ETC.score(x_test_scaled, y_test)))"
   ]
  },
  {
   "cell_type": "code",
   "execution_count": 49,
   "id": "dfd0609a-e0a7-4ca5-b545-57c20f7465bb",
   "metadata": {},
   "outputs": [
    {
     "name": "stderr",
     "output_type": "stream",
     "text": [
      "C:\\Users\\Personal\\Anaconda3\\lib\\site-packages\\xgboost\\sklearn.py:1224: UserWarning: The use of label encoder in XGBClassifier is deprecated and will be removed in a future release. To remove this warning, do the following: 1) Pass option use_label_encoder=False when constructing XGBClassifier object; and 2) Encode your labels (y) as integers starting with 0, i.e. 0, 1, 2, ..., [num_class - 1].\n",
      "  warnings.warn(label_encoder_deprecation_msg, UserWarning)\n"
     ]
    },
    {
     "name": "stdout",
     "output_type": "stream",
     "text": [
      "[23:54:24] WARNING: ..\\src\\learner.cc:1115: Starting in XGBoost 1.3.0, the default evaluation metric used with the objective 'binary:logistic' was changed from 'error' to 'logloss'. Explicitly set eval_metric if you'd like to restore the old behavior.\n",
      "Accuracy: 95%\n",
      "Training set score: 1.0000\n",
      "Test set score: 0.9455\n"
     ]
    }
   ],
   "source": [
    "## XGBOOST\n",
    "\n",
    "XGB = XGBClassifier(random_state = 1)\n",
    "#fit on train set\n",
    "XGB.fit(x_train_scaled, y_train)\n",
    "xgb_pred = XGB.predict(x_test_scaled)\n",
    "accuracy = accuracy_score(y_test, xgb_pred)\n",
    "print('Accuracy: {}%'.format(round(accuracy*100), 4))\n",
    "\n",
    "\n",
    "print(\"Training set score: {:.4f}\".format(XGB.score(x_train_scaled, y_train)))\n",
    "print(\"Test set score: {:.4f}\".format(XGB.score(x_test_scaled, y_test)))"
   ]
  },
  {
   "cell_type": "code",
   "execution_count": null,
   "id": "a255ce18-28e6-49bc-8c1c-9dc402891efd",
   "metadata": {},
   "outputs": [],
   "source": []
  },
  {
   "cell_type": "code",
   "execution_count": 48,
   "id": "6591216a-5d85-404b-90a8-b02779329d10",
   "metadata": {},
   "outputs": [
    {
     "name": "stdout",
     "output_type": "stream",
     "text": [
      "Accuracy: 94%\n",
      "Training set score: 0.9979\n",
      "Test set score: 0.9395\n"
     ]
    }
   ],
   "source": [
    "## LGBM\n",
    "\n",
    "LGBM =LGBMClassifier(random_state = 1)\n",
    "#fit on train set\n",
    "LGBM.fit(x_train_scaled, y_train)\n",
    "lgbm_pred = LGBM.predict(x_test_scaled)\n",
    "accuracy = accuracy_score(y_test, lgbm_pred)\n",
    "print('Accuracy: {}%'.format(round(accuracy*100), 4))\n",
    "\n",
    "print(\"Training set score: {:.4f}\".format(LGBM.score(x_train_scaled, y_train)))\n",
    "print(\"Test set score: {:.4f}\".format(LGBM.score(x_test_scaled, y_test)))"
   ]
  },
  {
   "cell_type": "code",
   "execution_count": 28,
   "id": "4f29da8e-5891-4310-b51f-9d7b91fbd84e",
   "metadata": {},
   "outputs": [],
   "source": [
    "from sklearn.model_selection import RandomizedSearchCV"
   ]
  },
  {
   "cell_type": "code",
   "execution_count": 29,
   "id": "0c8c7e72-cb2a-4317-a41c-1c296adfb318",
   "metadata": {},
   "outputs": [],
   "source": [
    "n_estimators = [50, 100, 300, 500, 1000]\n",
    "min_samples_split = [2, 3, 5, 7, 9]\n",
    "min_samples_leaf = [1, 2, 4, 6, 8]\n",
    "max_features = ['auto', 'sqrt', None, None] \n",
    "\n",
    "hyperparameter_grid = {'n_estimators': n_estimators,\n",
    "\n",
    "                       'min_samples_leaf': min_samples_leaf,\n",
    "\n",
    "                       'min_samples_split': min_samples_split,\n",
    "\n",
    "                       'max_features': max_features}"
   ]
  },
  {
   "cell_type": "code",
   "execution_count": 31,
   "id": "929d3580-deb0-4df0-be0e-478bb9791616",
   "metadata": {},
   "outputs": [],
   "source": [
    "randomcv = RandomizedSearchCV(estimator = ETC, \n",
    "                              param_distributions = hyperparameter_grid, cv=5, n_iter=10, scoring = 'accuracy', n_jobs = -1, verbose = 1,\n",
    "                              random_state = 1)"
   ]
  },
  {
   "cell_type": "code",
   "execution_count": 32,
   "id": "07b47d97-8ee3-41c7-9f06-8d4857c9348a",
   "metadata": {},
   "outputs": [
    {
     "name": "stdout",
     "output_type": "stream",
     "text": [
      "Fitting 5 folds for each of 10 candidates, totalling 50 fits\n"
     ]
    }
   ],
   "source": [
    "search = randomcv.fit(x_train_scaled, y_train)"
   ]
  },
  {
   "cell_type": "code",
   "execution_count": 33,
   "id": "e1d6c3ca-dd28-4566-b9a0-13bbf54d290f",
   "metadata": {},
   "outputs": [
    {
     "data": {
      "text/plain": [
       "{'n_estimators': 1000,\n",
       " 'min_samples_split': 2,\n",
       " 'min_samples_leaf': 8,\n",
       " 'max_features': None}"
      ]
     },
     "execution_count": 33,
     "metadata": {},
     "output_type": "execute_result"
    }
   ],
   "source": [
    "#get best parameters\n",
    "search.best_params_"
   ]
  },
  {
   "cell_type": "code",
   "execution_count": 34,
   "id": "23c2a77a-0e68-4f50-8e64-59f7020f4f43",
   "metadata": {},
   "outputs": [
    {
     "data": {
      "text/plain": [
       "ExtraTreesClassifier(max_features=None, min_samples_leaf=8, n_estimators=1000)"
      ]
     },
     "execution_count": 34,
     "metadata": {},
     "output_type": "execute_result"
    }
   ],
   "source": [
    "etc2=ExtraTreesClassifier(n_estimators=1000,min_samples_split=2,min_samples_leaf=8,max_features=None)\n",
    "etc2.fit(x_train_scaled, y_train)"
   ]
  },
  {
   "cell_type": "code",
   "execution_count": 35,
   "id": "4fe94b6e-6973-46d7-a902-557b04b81a61",
   "metadata": {},
   "outputs": [
    {
     "data": {
      "text/plain": [
       "0.9255"
      ]
     },
     "execution_count": 35,
     "metadata": {},
     "output_type": "execute_result"
    }
   ],
   "source": [
    "etc2.score(x_test_scaled, y_test)"
   ]
  },
  {
   "cell_type": "code",
   "execution_count": 47,
   "id": "9b632215-7860-4c00-a790-9571cd4595ae",
   "metadata": {},
   "outputs": [
    {
     "data": {
      "text/plain": [
       "p1      0.003616\n",
       "p4      0.005157\n",
       "p3      0.005355\n",
       "p2      0.005357\n",
       "g1      0.102714\n",
       "g2      0.108078\n",
       "g4      0.109333\n",
       "g3      0.112138\n",
       "tau3    0.134175\n",
       "tau4    0.135490\n",
       "tau1    0.137910\n",
       "tau2    0.140675\n",
       "dtype: float64"
      ]
     },
     "execution_count": 47,
     "metadata": {},
     "output_type": "execute_result"
    }
   ],
   "source": [
    "pd.Series(etc2.feature_importances_, index=etc2.feature_names_in_).sort_values()"
   ]
  },
  {
   "cell_type": "code",
   "execution_count": null,
   "id": "d98bfd8e-b9fc-46d7-b853-0bd9b2d7fee9",
   "metadata": {},
   "outputs": [],
   "source": []
  }
 ],
 "metadata": {
  "kernelspec": {
   "display_name": "Python 3 (ipykernel)",
   "language": "python",
   "name": "python3"
  },
  "language_info": {
   "codemirror_mode": {
    "name": "ipython",
    "version": 3
   },
   "file_extension": ".py",
   "mimetype": "text/x-python",
   "name": "python",
   "nbconvert_exporter": "python",
   "pygments_lexer": "ipython3",
   "version": "3.7.13"
  }
 },
 "nbformat": 4,
 "nbformat_minor": 5
}
